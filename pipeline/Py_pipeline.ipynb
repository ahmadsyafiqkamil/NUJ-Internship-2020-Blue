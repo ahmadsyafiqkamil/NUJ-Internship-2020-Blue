{
 "cells": [
  {
   "cell_type": "markdown",
   "metadata": {},
   "source": [
    "### WARNING\n",
    "### SETELAH RUN, SILAHKAN **HAPUS OUTPUT DARI NOTEBOOK** (BAGI YANG AKAN GIT)"
   ]
  },
  {
   "cell_type": "code",
   "execution_count": null,
   "metadata": {},
   "outputs": [],
   "source": [
    "import csv\n",
    "import json\n",
    "from io import BytesIO\n",
    "from zipfile import ZipFile\n",
    "\n",
    "import pandas as pd\n",
    "import requests"
   ]
  },
  {
   "cell_type": "code",
   "execution_count": null,
   "metadata": {},
   "outputs": [],
   "source": [
    "# Authorization\n",
    "def odk_auth(authfile):\n",
    "    with open(authfile, \"r\") as f:\n",
    "        ak = f.readlines()\n",
    "    f.close()\n",
    "    return ak[0].replace(\"\\n\", \"\"), ak[1].replace(\"\\n\", \"\")\n",
    "\n",
    "\n",
    "authfile = \"./auth.k\"\n",
    "\n",
    "central_email, central_password = odk_auth(authfile)\n",
    "central_url = \"https://odk.genolife.org\""
   ]
  },
  {
   "cell_type": "code",
   "execution_count": null,
   "metadata": {},
   "outputs": [],
   "source": [
    "!pip install nbstripout\n",
    "!nbstripout --install"
   ]
  },
  {
   "cell_type": "code",
   "execution_count": null,
   "metadata": {},
   "outputs": [],
   "source": [
    "def get_email_token():\n",
    "    email_token_response = requests.post(\n",
    "        central_url + \"/v1/sessions\",\n",
    "        data=json.dumps({\"email\": central_email, \"password\": central_password}),\n",
    "        headers={\"Content-Type\": \"application/json\"},\n",
    "    )\n",
    "    if email_token_response.status_code == 200:\n",
    "        return email_token_response.json()[\"token\"]\n",
    "\n",
    "\n",
    "def list_app_users(email_token, central_project_id):\n",
    "    app_users_response = requests.get(\n",
    "        central_url + \"/v1/projects/\" + str(central_project_id) + \"/app-users\",\n",
    "        headers={\"Authorization\": \"Bearer \" + email_token},\n",
    "    )\n",
    "    app_users = {}\n",
    "    for app_user in app_users_response.json():\n",
    "        app_users[app_user[\"id\"]] = app_user[\"displayName\"]\n",
    "    return app_users\n",
    "\n",
    "\n",
    "def list_projects(email_token):\n",
    "    projects_response = requests.get(\n",
    "        central_url + \"/v1/projects/\",\n",
    "        headers={\"Authorization\": \"Bearer \" + email_token},\n",
    "    )\n",
    "    projects = {}\n",
    "    for project in projects_response.json():\n",
    "        projects[project[\"id\"]] = project[\"name\"]\n",
    "    return projects"
   ]
  },
  {
   "cell_type": "code",
   "execution_count": null,
   "metadata": {},
   "outputs": [],
   "source": [
    "def odk_form(authfile):\n",
    "    with open(authfile, \"r\") as f:\n",
    "        ak = f.readlines()\n",
    "    f.close()\n",
    "    return (\n",
    "        ak[2].replace(\"\\n\", \"\"),\n",
    "        ak[3].replace(\"\\n\", \"\"),\n",
    "        ak[4].replace(\"\\n\", \"\"),\n",
    "        ak[5].replace(\"\\n\", \"\"),\n",
    "    )\n",
    "\n",
    "\n",
    "form = odk_form(authfile)"
   ]
  },
  {
   "cell_type": "code",
   "execution_count": null,
   "metadata": {},
   "outputs": [],
   "source": [
    "email_token = get_email_token()\n",
    "\n",
    "dataRaw = pd.DataFrame(None)\n",
    "for i in form:\n",
    "    request = requests.get(\n",
    "        url=i, headers={\"Authorization\": \"Bearer \" + str(email_token)}\n",
    "    )\n",
    "    dataODK = pd.read_csv(BytesIO(request.content), compression=\"zip\")\n",
    "    dataRaw = dataRaw.append(dataODK)"
   ]
  }
 ],
 "metadata": {
  "kernelspec": {
   "display_name": "Python 3",
   "language": "python",
   "name": "python3"
  },
  "language_info": {
   "codemirror_mode": {
    "name": "ipython",
    "version": 3
   },
   "file_extension": ".py",
   "mimetype": "text/x-python",
   "name": "python",
   "nbconvert_exporter": "python",
   "pygments_lexer": "ipython3",
   "version": "3.8.6"
  }
 },
 "nbformat": 4,
 "nbformat_minor": 4
}
